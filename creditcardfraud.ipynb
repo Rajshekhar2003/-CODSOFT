{
 "cells": [
  {
   "cell_type": "code",
   "execution_count": 2,
   "id": "7776b955-1f8e-45ab-b647-49bee1665dab",
   "metadata": {},
   "outputs": [],
   "source": [
    "import pandas as pd \n",
    "import matplotlib.pyplot as plt\n",
    "import numpy as np\n",
    "import seaborn as sns \n",
    "from matplotlib import gridspec "
   ]
  },
  {
   "cell_type": "code",
   "execution_count": 3,
   "id": "5568dd09-d1ef-4128-b477-738f0719f108",
   "metadata": {},
   "outputs": [],
   "source": [
    "data = pd.read_csv(\"fraudTrain.csv\") "
   ]
  },
  {
   "cell_type": "code",
   "execution_count": 4,
   "id": "a5975b70-ab11-42e8-be0b-8b738cd8d0c7",
   "metadata": {},
   "outputs": [
    {
     "name": "stdout",
     "output_type": "stream",
     "text": [
      "(1296675, 23)\n",
      "         Unnamed: 0        cc_num           amt           zip           lat  \\\n",
      "count  1.296675e+06  1.296675e+06  1.296675e+06  1.296675e+06  1.296675e+06   \n",
      "mean   6.483370e+05  4.171920e+17  7.035104e+01  4.880067e+04  3.853762e+01   \n",
      "std    3.743180e+05  1.308806e+18  1.603160e+02  2.689322e+04  5.075808e+00   \n",
      "min    0.000000e+00  6.041621e+10  1.000000e+00  1.257000e+03  2.002710e+01   \n",
      "25%    3.241685e+05  1.800429e+14  9.650000e+00  2.623700e+04  3.462050e+01   \n",
      "50%    6.483370e+05  3.521417e+15  4.752000e+01  4.817400e+04  3.935430e+01   \n",
      "75%    9.725055e+05  4.642255e+15  8.314000e+01  7.204200e+04  4.194040e+01   \n",
      "max    1.296674e+06  4.992346e+18  2.894890e+04  9.978300e+04  6.669330e+01   \n",
      "\n",
      "               long      city_pop     unix_time     merch_lat    merch_long  \\\n",
      "count  1.296675e+06  1.296675e+06  1.296675e+06  1.296675e+06  1.296675e+06   \n",
      "mean  -9.022634e+01  8.882444e+04  1.349244e+09  3.853734e+01 -9.022646e+01   \n",
      "std    1.375908e+01  3.019564e+05  1.284128e+07  5.109788e+00  1.377109e+01   \n",
      "min   -1.656723e+02  2.300000e+01  1.325376e+09  1.902779e+01 -1.666712e+02   \n",
      "25%   -9.679800e+01  7.430000e+02  1.338751e+09  3.473357e+01 -9.689728e+01   \n",
      "50%   -8.747690e+01  2.456000e+03  1.349250e+09  3.936568e+01 -8.743839e+01   \n",
      "75%   -8.015800e+01  2.032800e+04  1.359385e+09  4.195716e+01 -8.023680e+01   \n",
      "max   -6.795030e+01  2.906700e+06  1.371817e+09  6.751027e+01 -6.695090e+01   \n",
      "\n",
      "           is_fraud  \n",
      "count  1.296675e+06  \n",
      "mean   5.788652e-03  \n",
      "std    7.586269e-02  \n",
      "min    0.000000e+00  \n",
      "25%    0.000000e+00  \n",
      "50%    0.000000e+00  \n",
      "75%    0.000000e+00  \n",
      "max    1.000000e+00  \n"
     ]
    }
   ],
   "source": [
    "print(data.shape) \n",
    "print(data.describe())"
   ]
  },
  {
   "cell_type": "code",
   "execution_count": 5,
   "id": "bc3c132e-6e71-4844-a723-f9390eb729bb",
   "metadata": {},
   "outputs": [
    {
     "name": "stdout",
     "output_type": "stream",
     "text": [
      "0.005822355331224998\n",
      "Fraud Cases: 7506\n",
      "Valid Transactions: 1289169\n"
     ]
    }
   ],
   "source": [
    "fraud = data[data['is_fraud'] == 1] \n",
    "valid = data[data['is_fraud'] == 0] \n",
    "outlierFraction = len(fraud)/float(len(valid)) \n",
    "print(outlierFraction) \n",
    "print('Fraud Cases: {}'.format(len(data[data['is_fraud'] == 1]))) \n",
    "print('Valid Transactions: {}'.format(len(data[data['is_fraud'] == 0]))) "
   ]
  },
  {
   "cell_type": "code",
   "execution_count": 6,
   "id": "4f2e36bd-e288-426b-a7ef-df26d459cb9a",
   "metadata": {},
   "outputs": [
    {
     "name": "stdout",
     "output_type": "stream",
     "text": [
      "Amount details of the fraudulent transaction\n"
     ]
    },
    {
     "data": {
      "text/plain": [
       "count    7506.000000\n",
       "mean      531.320092\n",
       "std       390.560070\n",
       "min         1.060000\n",
       "25%       245.662500\n",
       "50%       396.505000\n",
       "75%       900.875000\n",
       "max      1376.040000\n",
       "Name: amt, dtype: float64"
      ]
     },
     "execution_count": 6,
     "metadata": {},
     "output_type": "execute_result"
    }
   ],
   "source": [
    "print('Amount details of the fraudulent transaction') \n",
    "fraud.amt.describe() "
   ]
  },
  {
   "cell_type": "code",
   "execution_count": 7,
   "id": "5d5f1ec6-e1d2-4d5d-af3d-04abe9cb0109",
   "metadata": {},
   "outputs": [
    {
     "name": "stdout",
     "output_type": "stream",
     "text": [
      "details of valid transaction\n"
     ]
    },
    {
     "data": {
      "text/plain": [
       "count    1.289169e+06\n",
       "mean     6.766711e+01\n",
       "std      1.540080e+02\n",
       "min      1.000000e+00\n",
       "25%      9.610000e+00\n",
       "50%      4.728000e+01\n",
       "75%      8.254000e+01\n",
       "max      2.894890e+04\n",
       "Name: amt, dtype: float64"
      ]
     },
     "execution_count": 7,
     "metadata": {},
     "output_type": "execute_result"
    }
   ],
   "source": [
    "print('details of valid transaction') \n",
    "valid.amt.describe() "
   ]
  },
  {
   "cell_type": "code",
   "execution_count": 8,
   "id": "9e7503e5-3b61-403b-8352-205e1517af1d",
   "metadata": {},
   "outputs": [
    {
     "name": "stdout",
     "output_type": "stream",
     "text": [
      "(1296675, 22)\n",
      "(1296675,)\n"
     ]
    }
   ],
   "source": [
    "X = data.drop(['is_fraud'], axis = 1) \n",
    "Y = data[\"is_fraud\"] \n",
    "print(X.shape) \n",
    "print(Y.shape) \n",
    "X=X.apply(pd.to_numeric,errors='coerce')\n",
    "Y=Y.apply(pd.to_numeric,errors='coerce')\n",
    "X.fillna(0,inplace=True)\n",
    "Y.fillna(0,inplace=True)\n",
    "xData = X.values \n",
    "yData = Y.values "
   ]
  },
  {
   "cell_type": "code",
   "execution_count": 9,
   "id": "68e10964-e02e-4182-a547-499fc1fea317",
   "metadata": {},
   "outputs": [],
   "source": [
    "from sklearn.model_selection import train_test_split  \n",
    "xTrain, xTest, yTrain, yTest = train_test_split( \n",
    "\t\txData, yData, test_size = 0.2, random_state = 42) "
   ]
  },
  {
   "cell_type": "code",
   "execution_count": 10,
   "id": "bfac456d-4fb5-423d-b20a-8eb640989b78",
   "metadata": {},
   "outputs": [],
   "source": [
    "# Building the Random Forest Classifier (RANDOM FOREST) \n",
    "from sklearn.ensemble import RandomForestClassifier \n",
    "# random forest model creation \n",
    "rfc = RandomForestClassifier() \n",
    "rfc.fit(xTrain, yTrain) \n",
    "# predictions \n",
    "yPred = rfc.predict(xTest) \n"
   ]
  },
  {
   "cell_type": "code",
   "execution_count": 11,
   "id": "03bbc500-527a-4e02-b504-0fbb57c9920c",
   "metadata": {},
   "outputs": [
    {
     "name": "stdout",
     "output_type": "stream",
     "text": [
      "The model used is Random Forest classifier\n",
      "The accuracy is 0.9969228989530916\n",
      "The precision is 0.8873390557939914\n",
      "The recall is 0.5440789473684211\n",
      "The F1-Score is 0.6745513866231648\n",
      "The Matthews correlation coefficient is0.6935150063431861\n"
     ]
    }
   ],
   "source": [
    "\n",
    "from sklearn.metrics import precision_score, recall_score \n",
    "from sklearn.metrics import f1_score, matthews_corrcoef \n",
    "from sklearn.metrics import classification_report, accuracy_score \n",
    "from sklearn.metrics import confusion_matrix \n",
    "\n",
    "n_outliers = len(fraud) \n",
    "n_errors = (yPred != yTest).sum() \n",
    "print(\"The model used is Random Forest classifier\") \n",
    "\n",
    "acc = accuracy_score(yTest, yPred) \n",
    "print(\"The accuracy is {}\".format(acc)) \n",
    "\n",
    "prec = precision_score(yTest, yPred) \n",
    "print(\"The precision is {}\".format(prec)) \n",
    "\n",
    "rec = recall_score(yTest, yPred) \n",
    "print(\"The recall is {}\".format(rec)) \n",
    "\n",
    "f1 = f1_score(yTest, yPred) \n",
    "print(\"The F1-Score is {}\".format(f1)) \n",
    "\n",
    "MCC = matthews_corrcoef(yTest, yPred) \n",
    "print(\"The Matthews correlation coefficient is{}\".format(MCC)) \n"
   ]
  },
  {
   "cell_type": "code",
   "execution_count": 18,
   "id": "58509abd-1986-451e-9d2f-f03002bfcd7c",
   "metadata": {},
   "outputs": [
    {
     "name": "stderr",
     "output_type": "stream",
     "text": [
      "C:\\Users\\DELL\\AppData\\Local\\Programs\\Python\\Python311\\Lib\\site-packages\\sklearn\\linear_model\\_logistic.py:460: ConvergenceWarning: lbfgs failed to converge (status=2):\n",
      "ABNORMAL_TERMINATION_IN_LNSRCH.\n",
      "\n",
      "Increase the number of iterations (max_iter) or scale the data as shown in:\n",
      "    https://scikit-learn.org/stable/modules/preprocessing.html\n",
      "Please also refer to the documentation for alternative solver options:\n",
      "    https://scikit-learn.org/stable/modules/linear_model.html#logistic-regression\n",
      "  n_iter_i = _check_optimize_result(\n"
     ]
    },
    {
     "name": "stdout",
     "output_type": "stream",
     "text": [
      "LogisticRegression() : \n",
      "Training Accuracy :  0.5\n",
      "Validation Accuracy :  0.5\n",
      "\n",
      "XGBClassifier(base_score=None, booster=None, callbacks=None,\n",
      "              colsample_bylevel=None, colsample_bynode=None,\n",
      "              colsample_bytree=None, device=None, early_stopping_rounds=None,\n",
      "              enable_categorical=False, eval_metric=None, feature_types=None,\n",
      "              gamma=None, grow_policy=None, importance_type=None,\n",
      "              interaction_constraints=None, learning_rate=None, max_bin=None,\n",
      "              max_cat_threshold=None, max_cat_to_onehot=None,\n",
      "              max_delta_step=None, max_depth=None, max_leaves=None,\n",
      "              min_child_weight=None, missing=nan, monotone_constraints=None,\n",
      "              multi_strategy=None, n_estimators=None, n_jobs=None,\n",
      "              num_parallel_tree=None, random_state=None, ...) : \n",
      "Training Accuracy :  0.7728868784191253\n",
      "Validation Accuracy :  0.7376447067307546\n",
      "\n"
     ]
    }
   ],
   "source": [
    "from xgboost import XGBClassifier\n",
    "from sklearn.linear_model import LogisticRegression\n",
    "from sklearn import metrics\n",
    "##from sklearn.tree import DecisionTreeClassifier\n",
    "models = [LogisticRegression(), XGBClassifier()]\n",
    "\n",
    "for i in range(2):\n",
    "\tmodels[i].fit(xTrain, yTrain)\n",
    "\n",
    "\tprint(f'{models[i]} : ')\n",
    "\tprint('Training Accuracy : ', metrics.roc_auc_score(yTrain, models[i].predict(xTrain)))\n",
    "\tprint('Validation Accuracy : ', metrics.roc_auc_score(\n",
    "\t\tyTest, models[i].predict(xTest)))\n",
    "\tprint()"
   ]
  },
  {
   "cell_type": "code",
   "execution_count": null,
   "id": "482a49a9-ab8e-45b0-a691-f75ee09fc5a2",
   "metadata": {},
   "outputs": [],
   "source": [
    "##Building the Random Forest Classifier (RANDOM FOREST) is the most preferable "
   ]
  }
 ],
 "metadata": {
  "kernelspec": {
   "display_name": "Python 3 (ipykernel)",
   "language": "python",
   "name": "python3"
  },
  "language_info": {
   "codemirror_mode": {
    "name": "ipython",
    "version": 3
   },
   "file_extension": ".py",
   "mimetype": "text/x-python",
   "name": "python",
   "nbconvert_exporter": "python",
   "pygments_lexer": "ipython3",
   "version": "3.11.5"
  }
 },
 "nbformat": 4,
 "nbformat_minor": 5
}
